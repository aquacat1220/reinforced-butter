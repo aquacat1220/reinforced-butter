{
 "cells": [
  {
   "cell_type": "code",
   "execution_count": 1,
   "id": "16b963a1",
   "metadata": {},
   "outputs": [],
   "source": [
    "from CybORG import CybORG\n",
    "from CybORG.Simulator.Scenarios import EnterpriseScenarioGenerator\n",
    "from CybORG.Agents import SleepAgent, EnterpriseGreenAgent, FiniteStateRedAgent\n",
    "from rich import print"
   ]
  },
  {
   "cell_type": "code",
   "execution_count": 2,
   "id": "6fc95b6d",
   "metadata": {},
   "outputs": [],
   "source": [
    "steps = 200\n",
    "sg = EnterpriseScenarioGenerator(\n",
    "    blue_agent_class=SleepAgent,\n",
    "    green_agent_class=EnterpriseGreenAgent,\n",
    "    red_agent_class=FiniteStateRedAgent,\n",
    "    steps=steps\n",
    ")\n",
    "cyborg = CybORG(scenario_generator=sg, seed=1234)"
   ]
  },
  {
   "cell_type": "code",
   "execution_count": 3,
   "id": "0cbe462d",
   "metadata": {},
   "outputs": [
    {
     "data": {
      "text/plain": [
       "<CybORG.Shared.Results.Results at 0x742435ff10c0>"
      ]
     },
     "execution_count": 3,
     "metadata": {},
     "output_type": "execute_result"
    }
   ],
   "source": [
    "cyborg.reset()"
   ]
  },
  {
   "cell_type": "code",
   "execution_count": 4,
   "id": "29c36d37",
   "metadata": {},
   "outputs": [
    {
     "data": {
      "text/plain": [
       "<CybORG.Shared.Results.Results at 0x7424347062c0>"
      ]
     },
     "execution_count": 4,
     "metadata": {},
     "output_type": "execute_result"
    }
   ],
   "source": [
    "cyborg.step()"
   ]
  },
  {
   "cell_type": "code",
   "execution_count": 5,
   "id": "a5ec1f5c",
   "metadata": {},
   "outputs": [
    {
     "data": {
      "text/html": [
       "<pre style=\"white-space:pre;overflow-x:auto;line-height:normal;font-family:Menlo,'DejaVu Sans Mono',consolas,'Courier New',monospace\"><span style=\"font-weight: bold\">{</span>\n",
       "    <span style=\"color: #008000; text-decoration-color: #008000\">'Sleep'</span>: <span style=\"font-weight: bold\">{</span>\n",
       "        <span style=\"color: #008000; text-decoration-color: #008000\">'green_agent_5'</span>: <span style=\"font-weight: bold\">[</span>Sleep<span style=\"font-weight: bold\">]</span>,\n",
       "        <span style=\"color: #008000; text-decoration-color: #008000\">'green_agent_10'</span>: <span style=\"font-weight: bold\">[</span>Sleep<span style=\"font-weight: bold\">]</span>,\n",
       "        <span style=\"color: #008000; text-decoration-color: #008000\">'green_agent_12'</span>: <span style=\"font-weight: bold\">[</span>Sleep<span style=\"font-weight: bold\">]</span>,\n",
       "        <span style=\"color: #008000; text-decoration-color: #008000\">'green_agent_14'</span>: <span style=\"font-weight: bold\">[</span>Sleep<span style=\"font-weight: bold\">]</span>,\n",
       "        <span style=\"color: #008000; text-decoration-color: #008000\">'green_agent_16'</span>: <span style=\"font-weight: bold\">[</span>Sleep<span style=\"font-weight: bold\">]</span>,\n",
       "        <span style=\"color: #008000; text-decoration-color: #008000\">'green_agent_19'</span>: <span style=\"font-weight: bold\">[</span>Sleep<span style=\"font-weight: bold\">]</span>,\n",
       "        <span style=\"color: #008000; text-decoration-color: #008000\">'green_agent_20'</span>: <span style=\"font-weight: bold\">[</span>Sleep<span style=\"font-weight: bold\">]</span>,\n",
       "        <span style=\"color: #008000; text-decoration-color: #008000\">'green_agent_23'</span>: <span style=\"font-weight: bold\">[</span>Sleep<span style=\"font-weight: bold\">]</span>,\n",
       "        <span style=\"color: #008000; text-decoration-color: #008000\">'green_agent_27'</span>: <span style=\"font-weight: bold\">[</span>Sleep<span style=\"font-weight: bold\">]</span>,\n",
       "        <span style=\"color: #008000; text-decoration-color: #008000\">'green_agent_28'</span>: <span style=\"font-weight: bold\">[</span>Sleep<span style=\"font-weight: bold\">]</span>,\n",
       "        <span style=\"color: #008000; text-decoration-color: #008000\">'green_agent_30'</span>: <span style=\"font-weight: bold\">[</span>Sleep<span style=\"font-weight: bold\">]</span>,\n",
       "        <span style=\"color: #008000; text-decoration-color: #008000\">'green_agent_31'</span>: <span style=\"font-weight: bold\">[</span>Sleep<span style=\"font-weight: bold\">]</span>,\n",
       "        <span style=\"color: #008000; text-decoration-color: #008000\">'green_agent_32'</span>: <span style=\"font-weight: bold\">[</span>Sleep<span style=\"font-weight: bold\">]</span>,\n",
       "        <span style=\"color: #008000; text-decoration-color: #008000\">'green_agent_33'</span>: <span style=\"font-weight: bold\">[</span>Sleep<span style=\"font-weight: bold\">]</span>,\n",
       "        <span style=\"color: #008000; text-decoration-color: #008000\">'green_agent_34'</span>: <span style=\"font-weight: bold\">[</span>Sleep<span style=\"font-weight: bold\">]</span>,\n",
       "        <span style=\"color: #008000; text-decoration-color: #008000\">'green_agent_35'</span>: <span style=\"font-weight: bold\">[</span>Sleep<span style=\"font-weight: bold\">]</span>,\n",
       "        <span style=\"color: #008000; text-decoration-color: #008000\">'green_agent_37'</span>: <span style=\"font-weight: bold\">[</span>Sleep<span style=\"font-weight: bold\">]</span>,\n",
       "        <span style=\"color: #008000; text-decoration-color: #008000\">'green_agent_41'</span>: <span style=\"font-weight: bold\">[</span>Sleep<span style=\"font-weight: bold\">]</span>,\n",
       "        <span style=\"color: #008000; text-decoration-color: #008000\">'green_agent_46'</span>: <span style=\"font-weight: bold\">[</span>Sleep<span style=\"font-weight: bold\">]</span>\n",
       "    <span style=\"font-weight: bold\">}</span>,\n",
       "    <span style=\"color: #008000; text-decoration-color: #008000\">'GreenLocalWork'</span>: <span style=\"font-weight: bold\">{</span>\n",
       "        <span style=\"color: #008000; text-decoration-color: #008000\">'green_agent_0'</span>: <span style=\"font-weight: bold\">[</span>GreenLocalWork <span style=\"color: #00ff00; text-decoration-color: #00ff00; font-weight: bold\">10.0.26.88</span><span style=\"font-weight: bold\">]</span>,\n",
       "        <span style=\"color: #008000; text-decoration-color: #008000\">'green_agent_2'</span>: <span style=\"font-weight: bold\">[</span>GreenLocalWork <span style=\"color: #00ff00; text-decoration-color: #00ff00; font-weight: bold\">10.0.26.173</span><span style=\"font-weight: bold\">]</span>,\n",
       "        <span style=\"color: #008000; text-decoration-color: #008000\">'green_agent_6'</span>: <span style=\"font-weight: bold\">[</span>GreenLocalWork <span style=\"color: #00ff00; text-decoration-color: #00ff00; font-weight: bold\">10.0.27.73</span><span style=\"font-weight: bold\">]</span>,\n",
       "        <span style=\"color: #008000; text-decoration-color: #008000\">'green_agent_7'</span>: <span style=\"font-weight: bold\">[</span>GreenLocalWork <span style=\"color: #00ff00; text-decoration-color: #00ff00; font-weight: bold\">10.0.27.109</span><span style=\"font-weight: bold\">]</span>,\n",
       "        <span style=\"color: #008000; text-decoration-color: #008000\">'green_agent_8'</span>: <span style=\"font-weight: bold\">[</span>GreenLocalWork <span style=\"color: #00ff00; text-decoration-color: #00ff00; font-weight: bold\">10.0.27.53</span><span style=\"font-weight: bold\">]</span>,\n",
       "        <span style=\"color: #008000; text-decoration-color: #008000\">'green_agent_9'</span>: <span style=\"font-weight: bold\">[</span>GreenLocalWork <span style=\"color: #00ff00; text-decoration-color: #00ff00; font-weight: bold\">10.0.27.189</span><span style=\"font-weight: bold\">]</span>,\n",
       "        <span style=\"color: #008000; text-decoration-color: #008000\">'green_agent_22'</span>: <span style=\"font-weight: bold\">[</span>GreenLocalWork <span style=\"color: #00ff00; text-decoration-color: #00ff00; font-weight: bold\">10.0.183.36</span><span style=\"font-weight: bold\">]</span>,\n",
       "        <span style=\"color: #008000; text-decoration-color: #008000\">'green_agent_24'</span>: <span style=\"font-weight: bold\">[</span>GreenLocalWork <span style=\"color: #00ff00; text-decoration-color: #00ff00; font-weight: bold\">10.0.183.53</span><span style=\"font-weight: bold\">]</span>,\n",
       "        <span style=\"color: #008000; text-decoration-color: #008000\">'green_agent_26'</span>: <span style=\"font-weight: bold\">[</span>GreenLocalWork <span style=\"color: #00ff00; text-decoration-color: #00ff00; font-weight: bold\">10.0.183.153</span><span style=\"font-weight: bold\">]</span>,\n",
       "        <span style=\"color: #008000; text-decoration-color: #008000\">'green_agent_29'</span>: <span style=\"font-weight: bold\">[</span>GreenLocalWork <span style=\"color: #00ff00; text-decoration-color: #00ff00; font-weight: bold\">10.0.74.39</span><span style=\"font-weight: bold\">]</span>,\n",
       "        <span style=\"color: #008000; text-decoration-color: #008000\">'green_agent_40'</span>: <span style=\"font-weight: bold\">[</span>GreenLocalWork <span style=\"color: #00ff00; text-decoration-color: #00ff00; font-weight: bold\">10.0.90.77</span><span style=\"font-weight: bold\">]</span>,\n",
       "        <span style=\"color: #008000; text-decoration-color: #008000\">'green_agent_42'</span>: <span style=\"font-weight: bold\">[</span>GreenLocalWork <span style=\"color: #00ff00; text-decoration-color: #00ff00; font-weight: bold\">10.0.90.221</span><span style=\"font-weight: bold\">]</span>,\n",
       "        <span style=\"color: #008000; text-decoration-color: #008000\">'green_agent_43'</span>: <span style=\"font-weight: bold\">[</span>GreenLocalWork <span style=\"color: #00ff00; text-decoration-color: #00ff00; font-weight: bold\">10.0.90.137</span><span style=\"font-weight: bold\">]</span>,\n",
       "        <span style=\"color: #008000; text-decoration-color: #008000\">'green_agent_47'</span>: <span style=\"font-weight: bold\">[</span>GreenLocalWork <span style=\"color: #00ff00; text-decoration-color: #00ff00; font-weight: bold\">10.0.32.201</span><span style=\"font-weight: bold\">]</span>\n",
       "    <span style=\"font-weight: bold\">}</span>,\n",
       "    <span style=\"color: #008000; text-decoration-color: #008000\">'GreenAccessService'</span>: <span style=\"font-weight: bold\">{</span>\n",
       "        <span style=\"color: #008000; text-decoration-color: #008000\">'green_agent_1'</span>: <span style=\"font-weight: bold\">[</span>GreenAccessService <span style=\"color: #00ff00; text-decoration-color: #00ff00; font-weight: bold\">10.0.26.254</span> <span style=\"color: #008080; text-decoration-color: #008080; font-weight: bold\">52011</span><span style=\"font-weight: bold\">]</span>,\n",
       "        <span style=\"color: #008000; text-decoration-color: #008000\">'green_agent_3'</span>: <span style=\"font-weight: bold\">[</span>GreenAccessService <span style=\"color: #00ff00; text-decoration-color: #00ff00; font-weight: bold\">10.0.26.253</span> <span style=\"color: #008080; text-decoration-color: #008080; font-weight: bold\">57085</span><span style=\"font-weight: bold\">]</span>,\n",
       "        <span style=\"color: #008000; text-decoration-color: #008000\">'green_agent_4'</span>: <span style=\"font-weight: bold\">[</span>GreenAccessService <span style=\"color: #00ff00; text-decoration-color: #00ff00; font-weight: bold\">10.0.90.254</span> <span style=\"color: #008080; text-decoration-color: #008080; font-weight: bold\">53460</span><span style=\"font-weight: bold\">]</span>,\n",
       "        <span style=\"color: #008000; text-decoration-color: #008000\">'green_agent_11'</span>: <span style=\"font-weight: bold\">[</span>GreenAccessService <span style=\"color: #00ff00; text-decoration-color: #00ff00; font-weight: bold\">10.0.27.254</span> <span style=\"color: #008080; text-decoration-color: #008080; font-weight: bold\">50986</span><span style=\"font-weight: bold\">]</span>,\n",
       "        <span style=\"color: #008000; text-decoration-color: #008000\">'green_agent_13'</span>: <span style=\"font-weight: bold\">[</span>GreenAccessService <span style=\"color: #00ff00; text-decoration-color: #00ff00; font-weight: bold\">10.0.32.254</span> <span style=\"color: #008080; text-decoration-color: #008080; font-weight: bold\">59914</span><span style=\"font-weight: bold\">]</span>,\n",
       "        <span style=\"color: #008000; text-decoration-color: #008000\">'green_agent_15'</span>: <span style=\"font-weight: bold\">[</span>GreenAccessService <span style=\"color: #00ff00; text-decoration-color: #00ff00; font-weight: bold\">10.0.183.253</span> <span style=\"color: #008080; text-decoration-color: #008080; font-weight: bold\">54198</span><span style=\"font-weight: bold\">]</span>,\n",
       "        <span style=\"color: #008000; text-decoration-color: #008000\">'green_agent_17'</span>: <span style=\"font-weight: bold\">[</span>GreenAccessService <span style=\"color: #00ff00; text-decoration-color: #00ff00; font-weight: bold\">10.0.74.252</span> <span style=\"color: #008080; text-decoration-color: #008080; font-weight: bold\">53962</span><span style=\"font-weight: bold\">]</span>,\n",
       "        <span style=\"color: #008000; text-decoration-color: #008000\">'green_agent_18'</span>: <span style=\"font-weight: bold\">[</span>GreenAccessService <span style=\"color: #00ff00; text-decoration-color: #00ff00; font-weight: bold\">10.0.183.252</span> <span style=\"color: #008080; text-decoration-color: #008080; font-weight: bold\">51987</span><span style=\"font-weight: bold\">]</span>,\n",
       "        <span style=\"color: #008000; text-decoration-color: #008000\">'green_agent_21'</span>: <span style=\"font-weight: bold\">[</span>GreenAccessService <span style=\"color: #00ff00; text-decoration-color: #00ff00; font-weight: bold\">10.0.86.253</span> <span style=\"color: #008080; text-decoration-color: #008080; font-weight: bold\">51725</span><span style=\"font-weight: bold\">]</span>,\n",
       "        <span style=\"color: #008000; text-decoration-color: #008000\">'green_agent_25'</span>: <span style=\"font-weight: bold\">[</span>GreenAccessService <span style=\"color: #00ff00; text-decoration-color: #00ff00; font-weight: bold\">10.0.86.253</span> <span style=\"color: #008080; text-decoration-color: #008080; font-weight: bold\">58035</span><span style=\"font-weight: bold\">]</span>,\n",
       "        <span style=\"color: #008000; text-decoration-color: #008000\">'green_agent_36'</span>: <span style=\"font-weight: bold\">[</span>GreenAccessService <span style=\"color: #00ff00; text-decoration-color: #00ff00; font-weight: bold\">10.0.74.252</span> <span style=\"color: #008080; text-decoration-color: #008080; font-weight: bold\">58537</span><span style=\"font-weight: bold\">]</span>,\n",
       "        <span style=\"color: #008000; text-decoration-color: #008000\">'green_agent_38'</span>: <span style=\"font-weight: bold\">[</span>GreenAccessService <span style=\"color: #00ff00; text-decoration-color: #00ff00; font-weight: bold\">10.0.74.253</span> <span style=\"color: #008080; text-decoration-color: #008080; font-weight: bold\">50192</span><span style=\"font-weight: bold\">]</span>,\n",
       "        <span style=\"color: #008000; text-decoration-color: #008000\">'green_agent_39'</span>: <span style=\"font-weight: bold\">[</span>GreenAccessService <span style=\"color: #00ff00; text-decoration-color: #00ff00; font-weight: bold\">10.0.86.253</span> <span style=\"color: #008080; text-decoration-color: #008080; font-weight: bold\">52105</span><span style=\"font-weight: bold\">]</span>,\n",
       "        <span style=\"color: #008000; text-decoration-color: #008000\">'green_agent_44'</span>: <span style=\"font-weight: bold\">[</span>GreenAccessService <span style=\"color: #00ff00; text-decoration-color: #00ff00; font-weight: bold\">10.0.90.253</span> <span style=\"color: #008080; text-decoration-color: #008080; font-weight: bold\">56584</span><span style=\"font-weight: bold\">]</span>,\n",
       "        <span style=\"color: #008000; text-decoration-color: #008000\">'green_agent_45'</span>: <span style=\"font-weight: bold\">[</span>GreenAccessService <span style=\"color: #00ff00; text-decoration-color: #00ff00; font-weight: bold\">10.0.26.254</span> <span style=\"color: #008080; text-decoration-color: #008080; font-weight: bold\">49164</span><span style=\"font-weight: bold\">]</span>\n",
       "    <span style=\"font-weight: bold\">}</span>\n",
       "<span style=\"font-weight: bold\">}</span>\n",
       "</pre>\n"
      ],
      "text/plain": [
       "\u001b[1m{\u001b[0m\n",
       "    \u001b[32m'Sleep'\u001b[0m: \u001b[1m{\u001b[0m\n",
       "        \u001b[32m'green_agent_5'\u001b[0m: \u001b[1m[\u001b[0mSleep\u001b[1m]\u001b[0m,\n",
       "        \u001b[32m'green_agent_10'\u001b[0m: \u001b[1m[\u001b[0mSleep\u001b[1m]\u001b[0m,\n",
       "        \u001b[32m'green_agent_12'\u001b[0m: \u001b[1m[\u001b[0mSleep\u001b[1m]\u001b[0m,\n",
       "        \u001b[32m'green_agent_14'\u001b[0m: \u001b[1m[\u001b[0mSleep\u001b[1m]\u001b[0m,\n",
       "        \u001b[32m'green_agent_16'\u001b[0m: \u001b[1m[\u001b[0mSleep\u001b[1m]\u001b[0m,\n",
       "        \u001b[32m'green_agent_19'\u001b[0m: \u001b[1m[\u001b[0mSleep\u001b[1m]\u001b[0m,\n",
       "        \u001b[32m'green_agent_20'\u001b[0m: \u001b[1m[\u001b[0mSleep\u001b[1m]\u001b[0m,\n",
       "        \u001b[32m'green_agent_23'\u001b[0m: \u001b[1m[\u001b[0mSleep\u001b[1m]\u001b[0m,\n",
       "        \u001b[32m'green_agent_27'\u001b[0m: \u001b[1m[\u001b[0mSleep\u001b[1m]\u001b[0m,\n",
       "        \u001b[32m'green_agent_28'\u001b[0m: \u001b[1m[\u001b[0mSleep\u001b[1m]\u001b[0m,\n",
       "        \u001b[32m'green_agent_30'\u001b[0m: \u001b[1m[\u001b[0mSleep\u001b[1m]\u001b[0m,\n",
       "        \u001b[32m'green_agent_31'\u001b[0m: \u001b[1m[\u001b[0mSleep\u001b[1m]\u001b[0m,\n",
       "        \u001b[32m'green_agent_32'\u001b[0m: \u001b[1m[\u001b[0mSleep\u001b[1m]\u001b[0m,\n",
       "        \u001b[32m'green_agent_33'\u001b[0m: \u001b[1m[\u001b[0mSleep\u001b[1m]\u001b[0m,\n",
       "        \u001b[32m'green_agent_34'\u001b[0m: \u001b[1m[\u001b[0mSleep\u001b[1m]\u001b[0m,\n",
       "        \u001b[32m'green_agent_35'\u001b[0m: \u001b[1m[\u001b[0mSleep\u001b[1m]\u001b[0m,\n",
       "        \u001b[32m'green_agent_37'\u001b[0m: \u001b[1m[\u001b[0mSleep\u001b[1m]\u001b[0m,\n",
       "        \u001b[32m'green_agent_41'\u001b[0m: \u001b[1m[\u001b[0mSleep\u001b[1m]\u001b[0m,\n",
       "        \u001b[32m'green_agent_46'\u001b[0m: \u001b[1m[\u001b[0mSleep\u001b[1m]\u001b[0m\n",
       "    \u001b[1m}\u001b[0m,\n",
       "    \u001b[32m'GreenLocalWork'\u001b[0m: \u001b[1m{\u001b[0m\n",
       "        \u001b[32m'green_agent_0'\u001b[0m: \u001b[1m[\u001b[0mGreenLocalWork \u001b[1;92m10.0.26.88\u001b[0m\u001b[1m]\u001b[0m,\n",
       "        \u001b[32m'green_agent_2'\u001b[0m: \u001b[1m[\u001b[0mGreenLocalWork \u001b[1;92m10.0.26.173\u001b[0m\u001b[1m]\u001b[0m,\n",
       "        \u001b[32m'green_agent_6'\u001b[0m: \u001b[1m[\u001b[0mGreenLocalWork \u001b[1;92m10.0.27.73\u001b[0m\u001b[1m]\u001b[0m,\n",
       "        \u001b[32m'green_agent_7'\u001b[0m: \u001b[1m[\u001b[0mGreenLocalWork \u001b[1;92m10.0.27.109\u001b[0m\u001b[1m]\u001b[0m,\n",
       "        \u001b[32m'green_agent_8'\u001b[0m: \u001b[1m[\u001b[0mGreenLocalWork \u001b[1;92m10.0.27.53\u001b[0m\u001b[1m]\u001b[0m,\n",
       "        \u001b[32m'green_agent_9'\u001b[0m: \u001b[1m[\u001b[0mGreenLocalWork \u001b[1;92m10.0.27.189\u001b[0m\u001b[1m]\u001b[0m,\n",
       "        \u001b[32m'green_agent_22'\u001b[0m: \u001b[1m[\u001b[0mGreenLocalWork \u001b[1;92m10.0.183.36\u001b[0m\u001b[1m]\u001b[0m,\n",
       "        \u001b[32m'green_agent_24'\u001b[0m: \u001b[1m[\u001b[0mGreenLocalWork \u001b[1;92m10.0.183.53\u001b[0m\u001b[1m]\u001b[0m,\n",
       "        \u001b[32m'green_agent_26'\u001b[0m: \u001b[1m[\u001b[0mGreenLocalWork \u001b[1;92m10.0.183.153\u001b[0m\u001b[1m]\u001b[0m,\n",
       "        \u001b[32m'green_agent_29'\u001b[0m: \u001b[1m[\u001b[0mGreenLocalWork \u001b[1;92m10.0.74.39\u001b[0m\u001b[1m]\u001b[0m,\n",
       "        \u001b[32m'green_agent_40'\u001b[0m: \u001b[1m[\u001b[0mGreenLocalWork \u001b[1;92m10.0.90.77\u001b[0m\u001b[1m]\u001b[0m,\n",
       "        \u001b[32m'green_agent_42'\u001b[0m: \u001b[1m[\u001b[0mGreenLocalWork \u001b[1;92m10.0.90.221\u001b[0m\u001b[1m]\u001b[0m,\n",
       "        \u001b[32m'green_agent_43'\u001b[0m: \u001b[1m[\u001b[0mGreenLocalWork \u001b[1;92m10.0.90.137\u001b[0m\u001b[1m]\u001b[0m,\n",
       "        \u001b[32m'green_agent_47'\u001b[0m: \u001b[1m[\u001b[0mGreenLocalWork \u001b[1;92m10.0.32.201\u001b[0m\u001b[1m]\u001b[0m\n",
       "    \u001b[1m}\u001b[0m,\n",
       "    \u001b[32m'GreenAccessService'\u001b[0m: \u001b[1m{\u001b[0m\n",
       "        \u001b[32m'green_agent_1'\u001b[0m: \u001b[1m[\u001b[0mGreenAccessService \u001b[1;92m10.0.26.254\u001b[0m \u001b[1;36m52011\u001b[0m\u001b[1m]\u001b[0m,\n",
       "        \u001b[32m'green_agent_3'\u001b[0m: \u001b[1m[\u001b[0mGreenAccessService \u001b[1;92m10.0.26.253\u001b[0m \u001b[1;36m57085\u001b[0m\u001b[1m]\u001b[0m,\n",
       "        \u001b[32m'green_agent_4'\u001b[0m: \u001b[1m[\u001b[0mGreenAccessService \u001b[1;92m10.0.90.254\u001b[0m \u001b[1;36m53460\u001b[0m\u001b[1m]\u001b[0m,\n",
       "        \u001b[32m'green_agent_11'\u001b[0m: \u001b[1m[\u001b[0mGreenAccessService \u001b[1;92m10.0.27.254\u001b[0m \u001b[1;36m50986\u001b[0m\u001b[1m]\u001b[0m,\n",
       "        \u001b[32m'green_agent_13'\u001b[0m: \u001b[1m[\u001b[0mGreenAccessService \u001b[1;92m10.0.32.254\u001b[0m \u001b[1;36m59914\u001b[0m\u001b[1m]\u001b[0m,\n",
       "        \u001b[32m'green_agent_15'\u001b[0m: \u001b[1m[\u001b[0mGreenAccessService \u001b[1;92m10.0.183.253\u001b[0m \u001b[1;36m54198\u001b[0m\u001b[1m]\u001b[0m,\n",
       "        \u001b[32m'green_agent_17'\u001b[0m: \u001b[1m[\u001b[0mGreenAccessService \u001b[1;92m10.0.74.252\u001b[0m \u001b[1;36m53962\u001b[0m\u001b[1m]\u001b[0m,\n",
       "        \u001b[32m'green_agent_18'\u001b[0m: \u001b[1m[\u001b[0mGreenAccessService \u001b[1;92m10.0.183.252\u001b[0m \u001b[1;36m51987\u001b[0m\u001b[1m]\u001b[0m,\n",
       "        \u001b[32m'green_agent_21'\u001b[0m: \u001b[1m[\u001b[0mGreenAccessService \u001b[1;92m10.0.86.253\u001b[0m \u001b[1;36m51725\u001b[0m\u001b[1m]\u001b[0m,\n",
       "        \u001b[32m'green_agent_25'\u001b[0m: \u001b[1m[\u001b[0mGreenAccessService \u001b[1;92m10.0.86.253\u001b[0m \u001b[1;36m58035\u001b[0m\u001b[1m]\u001b[0m,\n",
       "        \u001b[32m'green_agent_36'\u001b[0m: \u001b[1m[\u001b[0mGreenAccessService \u001b[1;92m10.0.74.252\u001b[0m \u001b[1;36m58537\u001b[0m\u001b[1m]\u001b[0m,\n",
       "        \u001b[32m'green_agent_38'\u001b[0m: \u001b[1m[\u001b[0mGreenAccessService \u001b[1;92m10.0.74.253\u001b[0m \u001b[1;36m50192\u001b[0m\u001b[1m]\u001b[0m,\n",
       "        \u001b[32m'green_agent_39'\u001b[0m: \u001b[1m[\u001b[0mGreenAccessService \u001b[1;92m10.0.86.253\u001b[0m \u001b[1;36m52105\u001b[0m\u001b[1m]\u001b[0m,\n",
       "        \u001b[32m'green_agent_44'\u001b[0m: \u001b[1m[\u001b[0mGreenAccessService \u001b[1;92m10.0.90.253\u001b[0m \u001b[1;36m56584\u001b[0m\u001b[1m]\u001b[0m,\n",
       "        \u001b[32m'green_agent_45'\u001b[0m: \u001b[1m[\u001b[0mGreenAccessService \u001b[1;92m10.0.26.254\u001b[0m \u001b[1;36m49164\u001b[0m\u001b[1m]\u001b[0m\n",
       "    \u001b[1m}\u001b[0m\n",
       "\u001b[1m}\u001b[0m\n"
      ]
     },
     "metadata": {},
     "output_type": "display_data"
    }
   ],
   "source": [
    "# Get the dictionary of actions performed during that step\n",
    "action_list = cyborg.environment_controller.action\n",
    "\n",
    "# Separate the actions out into their three groups for easy viewing\n",
    "green_actions = {'Sleep': {}, 'GreenLocalWork': {}, 'GreenAccessService': {}}\n",
    "for agent, action in action_list.items():\n",
    "    if 'green' in agent:\n",
    "        action_str = str(action[0]) \n",
    "        if 'Sleep' in action_str:\n",
    "            green_actions['Sleep'][agent] = action\n",
    "        if 'GreenLocalWork' in action_str:\n",
    "            green_actions['GreenLocalWork'][agent] = action\n",
    "        if 'GreenAccessService' in action_str:\n",
    "            green_actions['GreenAccessService'][agent] = action\n",
    "\n",
    "# Print the dictionary\n",
    "print(green_actions)"
   ]
  }
 ],
 "metadata": {
  "kernelspec": {
   "display_name": "Python 3",
   "language": "python",
   "name": "python3"
  },
  "language_info": {
   "codemirror_mode": {
    "name": "ipython",
    "version": 3
   },
   "file_extension": ".py",
   "mimetype": "text/x-python",
   "name": "python",
   "nbconvert_exporter": "python",
   "pygments_lexer": "ipython3",
   "version": "3.10.18"
  }
 },
 "nbformat": 4,
 "nbformat_minor": 5
}
